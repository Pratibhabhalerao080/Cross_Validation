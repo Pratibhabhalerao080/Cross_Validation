{
 "cells": [
  {
   "cell_type": "markdown",
   "id": "f7e14f03",
   "metadata": {},
   "source": [
    "# Problem Statement"
   ]
  },
  {
   "cell_type": "markdown",
   "id": "4b87083f",
   "metadata": {},
   "source": [
    "### Construct a cross validated linear regression model that predicts the weight of a passenger vehicle"
   ]
  },
  {
   "cell_type": "markdown",
   "id": "724a6fc7",
   "metadata": {},
   "source": [
    "# Introduction"
   ]
  },
  {
   "cell_type": "markdown",
   "id": "8670aef6",
   "metadata": {},
   "source": [
    "#### The goal is to construct a linear regression model to predict the weight of passenger vehicles. The steps taken is Data preparation, Exploratory Data Analysis(EDA) and regression model construction and evalution. The models are evaluated using K-fold cross- validation and the preferred model is selected on the basis of average R^2 scores."
   ]
  },
  {
   "cell_type": "markdown",
   "id": "0a117032",
   "metadata": {},
   "source": [
    "# Exploratory Data Analysis"
   ]
  },
  {
   "cell_type": "markdown",
   "id": "d1ba42eb",
   "metadata": {},
   "source": [
    "# # Data Preparation\n",
    "The dataset is loaded, and relevant column names are assigned. "
   ]
  },
  {
   "cell_type": "code",
   "execution_count": 1,
   "id": "eb3d9f36",
   "metadata": {},
   "outputs": [],
   "source": [
    "import pandas as pd\n",
    "import matplotlib.pyplot as plt\n",
    "import seaborn as sns"
   ]
  },
  {
   "cell_type": "code",
   "execution_count": 2,
   "id": "39b6548a",
   "metadata": {},
   "outputs": [],
   "source": [
    "Data = pd.read_csv(\"https://raw.githubusercontent.com/Pratibhabhalerao080/DAV-6150/main/M2_Data.csv\",header=0)"
   ]
  },
  {
   "cell_type": "code",
   "execution_count": 3,
   "id": "e9610bae",
   "metadata": {},
   "outputs": [
    {
     "data": {
      "text/html": [
       "<div>\n",
       "<style scoped>\n",
       "    .dataframe tbody tr th:only-of-type {\n",
       "        vertical-align: middle;\n",
       "    }\n",
       "\n",
       "    .dataframe tbody tr th {\n",
       "        vertical-align: top;\n",
       "    }\n",
       "\n",
       "    .dataframe thead th {\n",
       "        text-align: right;\n",
       "    }\n",
       "</style>\n",
       "<table border=\"1\" class=\"dataframe\">\n",
       "  <thead>\n",
       "    <tr style=\"text-align: right;\">\n",
       "      <th></th>\n",
       "      <th>3</th>\n",
       "      <th>?</th>\n",
       "      <th>alfa-romero</th>\n",
       "      <th>gas</th>\n",
       "      <th>std</th>\n",
       "      <th>two</th>\n",
       "      <th>convertible</th>\n",
       "      <th>rwd</th>\n",
       "      <th>front</th>\n",
       "      <th>88.6</th>\n",
       "      <th>...</th>\n",
       "      <th>130</th>\n",
       "      <th>mpfi</th>\n",
       "      <th>3.47</th>\n",
       "      <th>2.68</th>\n",
       "      <th>9</th>\n",
       "      <th>111</th>\n",
       "      <th>5000</th>\n",
       "      <th>21</th>\n",
       "      <th>27</th>\n",
       "      <th>13495</th>\n",
       "    </tr>\n",
       "  </thead>\n",
       "  <tbody>\n",
       "    <tr>\n",
       "      <th>0</th>\n",
       "      <td>3</td>\n",
       "      <td>?</td>\n",
       "      <td>alfa-romero</td>\n",
       "      <td>gas</td>\n",
       "      <td>std</td>\n",
       "      <td>two</td>\n",
       "      <td>convertible</td>\n",
       "      <td>rwd</td>\n",
       "      <td>front</td>\n",
       "      <td>88.6</td>\n",
       "      <td>...</td>\n",
       "      <td>130</td>\n",
       "      <td>mpfi</td>\n",
       "      <td>3.47</td>\n",
       "      <td>2.68</td>\n",
       "      <td>9.0</td>\n",
       "      <td>111</td>\n",
       "      <td>5000</td>\n",
       "      <td>21</td>\n",
       "      <td>27</td>\n",
       "      <td>16500</td>\n",
       "    </tr>\n",
       "    <tr>\n",
       "      <th>1</th>\n",
       "      <td>1</td>\n",
       "      <td>?</td>\n",
       "      <td>alfa-romero</td>\n",
       "      <td>gas</td>\n",
       "      <td>std</td>\n",
       "      <td>two</td>\n",
       "      <td>hatchback</td>\n",
       "      <td>rwd</td>\n",
       "      <td>front</td>\n",
       "      <td>94.5</td>\n",
       "      <td>...</td>\n",
       "      <td>152</td>\n",
       "      <td>mpfi</td>\n",
       "      <td>2.68</td>\n",
       "      <td>3.47</td>\n",
       "      <td>9.0</td>\n",
       "      <td>154</td>\n",
       "      <td>5000</td>\n",
       "      <td>19</td>\n",
       "      <td>26</td>\n",
       "      <td>16500</td>\n",
       "    </tr>\n",
       "    <tr>\n",
       "      <th>2</th>\n",
       "      <td>2</td>\n",
       "      <td>164</td>\n",
       "      <td>audi</td>\n",
       "      <td>gas</td>\n",
       "      <td>std</td>\n",
       "      <td>four</td>\n",
       "      <td>sedan</td>\n",
       "      <td>fwd</td>\n",
       "      <td>front</td>\n",
       "      <td>99.8</td>\n",
       "      <td>...</td>\n",
       "      <td>109</td>\n",
       "      <td>mpfi</td>\n",
       "      <td>3.19</td>\n",
       "      <td>3.4</td>\n",
       "      <td>10.0</td>\n",
       "      <td>102</td>\n",
       "      <td>5500</td>\n",
       "      <td>24</td>\n",
       "      <td>30</td>\n",
       "      <td>13950</td>\n",
       "    </tr>\n",
       "    <tr>\n",
       "      <th>3</th>\n",
       "      <td>2</td>\n",
       "      <td>164</td>\n",
       "      <td>audi</td>\n",
       "      <td>gas</td>\n",
       "      <td>std</td>\n",
       "      <td>four</td>\n",
       "      <td>sedan</td>\n",
       "      <td>4wd</td>\n",
       "      <td>front</td>\n",
       "      <td>99.4</td>\n",
       "      <td>...</td>\n",
       "      <td>136</td>\n",
       "      <td>mpfi</td>\n",
       "      <td>3.19</td>\n",
       "      <td>3.4</td>\n",
       "      <td>8.0</td>\n",
       "      <td>115</td>\n",
       "      <td>5500</td>\n",
       "      <td>18</td>\n",
       "      <td>22</td>\n",
       "      <td>17450</td>\n",
       "    </tr>\n",
       "    <tr>\n",
       "      <th>4</th>\n",
       "      <td>2</td>\n",
       "      <td>?</td>\n",
       "      <td>audi</td>\n",
       "      <td>gas</td>\n",
       "      <td>std</td>\n",
       "      <td>two</td>\n",
       "      <td>sedan</td>\n",
       "      <td>fwd</td>\n",
       "      <td>front</td>\n",
       "      <td>99.8</td>\n",
       "      <td>...</td>\n",
       "      <td>136</td>\n",
       "      <td>mpfi</td>\n",
       "      <td>3.19</td>\n",
       "      <td>3.4</td>\n",
       "      <td>8.5</td>\n",
       "      <td>110</td>\n",
       "      <td>5500</td>\n",
       "      <td>19</td>\n",
       "      <td>25</td>\n",
       "      <td>15250</td>\n",
       "    </tr>\n",
       "  </tbody>\n",
       "</table>\n",
       "<p>5 rows × 26 columns</p>\n",
       "</div>"
      ],
      "text/plain": [
       "   3    ?  alfa-romero  gas  std   two  convertible  rwd  front  88.6  ...  \\\n",
       "0  3    ?  alfa-romero  gas  std   two  convertible  rwd  front  88.6  ...   \n",
       "1  1    ?  alfa-romero  gas  std   two    hatchback  rwd  front  94.5  ...   \n",
       "2  2  164         audi  gas  std  four        sedan  fwd  front  99.8  ...   \n",
       "3  2  164         audi  gas  std  four        sedan  4wd  front  99.4  ...   \n",
       "4  2    ?         audi  gas  std   two        sedan  fwd  front  99.8  ...   \n",
       "\n",
       "   130  mpfi  3.47  2.68     9  111  5000  21  27  13495  \n",
       "0  130  mpfi  3.47  2.68   9.0  111  5000  21  27  16500  \n",
       "1  152  mpfi  2.68  3.47   9.0  154  5000  19  26  16500  \n",
       "2  109  mpfi  3.19   3.4  10.0  102  5500  24  30  13950  \n",
       "3  136  mpfi  3.19   3.4   8.0  115  5500  18  22  17450  \n",
       "4  136  mpfi  3.19   3.4   8.5  110  5500  19  25  15250  \n",
       "\n",
       "[5 rows x 26 columns]"
      ]
     },
     "execution_count": 3,
     "metadata": {},
     "output_type": "execute_result"
    }
   ],
   "source": [
    "Data.head()"
   ]
  },
  {
   "cell_type": "code",
   "execution_count": 4,
   "id": "23e9e4bf",
   "metadata": {},
   "outputs": [],
   "source": [
    "# Defining the column name as per attribute information\n",
    "\n",
    "column_names = ['symboling', 'normalized-losses', 'make', 'fuel-type', 'aspiration',\n",
    "    'num-of-doors', 'body-style', 'drive-wheels', 'engine-location',\n",
    "    'wheel-base', 'length', 'width', 'height', 'curb-weight', 'engine-type',\n",
    "    'num-of-cylinders', 'engine-size', 'fuel-system', 'bore', 'stroke',\n",
    "    'compression-ratio', 'horsepower', 'peak-rpm', 'city-mpg', 'highway-mpg', 'price']"
   ]
  },
  {
   "cell_type": "code",
   "execution_count": 5,
   "id": "f60223ea",
   "metadata": {},
   "outputs": [],
   "source": [
    "Data.columns = column_names"
   ]
  },
  {
   "cell_type": "code",
   "execution_count": 6,
   "id": "f139b66e",
   "metadata": {},
   "outputs": [
    {
     "data": {
      "text/html": [
       "<div>\n",
       "<style scoped>\n",
       "    .dataframe tbody tr th:only-of-type {\n",
       "        vertical-align: middle;\n",
       "    }\n",
       "\n",
       "    .dataframe tbody tr th {\n",
       "        vertical-align: top;\n",
       "    }\n",
       "\n",
       "    .dataframe thead th {\n",
       "        text-align: right;\n",
       "    }\n",
       "</style>\n",
       "<table border=\"1\" class=\"dataframe\">\n",
       "  <thead>\n",
       "    <tr style=\"text-align: right;\">\n",
       "      <th></th>\n",
       "      <th>symboling</th>\n",
       "      <th>normalized-losses</th>\n",
       "      <th>make</th>\n",
       "      <th>fuel-type</th>\n",
       "      <th>aspiration</th>\n",
       "      <th>num-of-doors</th>\n",
       "      <th>body-style</th>\n",
       "      <th>drive-wheels</th>\n",
       "      <th>engine-location</th>\n",
       "      <th>wheel-base</th>\n",
       "      <th>...</th>\n",
       "      <th>engine-size</th>\n",
       "      <th>fuel-system</th>\n",
       "      <th>bore</th>\n",
       "      <th>stroke</th>\n",
       "      <th>compression-ratio</th>\n",
       "      <th>horsepower</th>\n",
       "      <th>peak-rpm</th>\n",
       "      <th>city-mpg</th>\n",
       "      <th>highway-mpg</th>\n",
       "      <th>price</th>\n",
       "    </tr>\n",
       "  </thead>\n",
       "  <tbody>\n",
       "    <tr>\n",
       "      <th>0</th>\n",
       "      <td>3</td>\n",
       "      <td>?</td>\n",
       "      <td>alfa-romero</td>\n",
       "      <td>gas</td>\n",
       "      <td>std</td>\n",
       "      <td>two</td>\n",
       "      <td>convertible</td>\n",
       "      <td>rwd</td>\n",
       "      <td>front</td>\n",
       "      <td>88.6</td>\n",
       "      <td>...</td>\n",
       "      <td>130</td>\n",
       "      <td>mpfi</td>\n",
       "      <td>3.47</td>\n",
       "      <td>2.68</td>\n",
       "      <td>9.0</td>\n",
       "      <td>111</td>\n",
       "      <td>5000</td>\n",
       "      <td>21</td>\n",
       "      <td>27</td>\n",
       "      <td>16500</td>\n",
       "    </tr>\n",
       "    <tr>\n",
       "      <th>1</th>\n",
       "      <td>1</td>\n",
       "      <td>?</td>\n",
       "      <td>alfa-romero</td>\n",
       "      <td>gas</td>\n",
       "      <td>std</td>\n",
       "      <td>two</td>\n",
       "      <td>hatchback</td>\n",
       "      <td>rwd</td>\n",
       "      <td>front</td>\n",
       "      <td>94.5</td>\n",
       "      <td>...</td>\n",
       "      <td>152</td>\n",
       "      <td>mpfi</td>\n",
       "      <td>2.68</td>\n",
       "      <td>3.47</td>\n",
       "      <td>9.0</td>\n",
       "      <td>154</td>\n",
       "      <td>5000</td>\n",
       "      <td>19</td>\n",
       "      <td>26</td>\n",
       "      <td>16500</td>\n",
       "    </tr>\n",
       "    <tr>\n",
       "      <th>2</th>\n",
       "      <td>2</td>\n",
       "      <td>164</td>\n",
       "      <td>audi</td>\n",
       "      <td>gas</td>\n",
       "      <td>std</td>\n",
       "      <td>four</td>\n",
       "      <td>sedan</td>\n",
       "      <td>fwd</td>\n",
       "      <td>front</td>\n",
       "      <td>99.8</td>\n",
       "      <td>...</td>\n",
       "      <td>109</td>\n",
       "      <td>mpfi</td>\n",
       "      <td>3.19</td>\n",
       "      <td>3.4</td>\n",
       "      <td>10.0</td>\n",
       "      <td>102</td>\n",
       "      <td>5500</td>\n",
       "      <td>24</td>\n",
       "      <td>30</td>\n",
       "      <td>13950</td>\n",
       "    </tr>\n",
       "    <tr>\n",
       "      <th>3</th>\n",
       "      <td>2</td>\n",
       "      <td>164</td>\n",
       "      <td>audi</td>\n",
       "      <td>gas</td>\n",
       "      <td>std</td>\n",
       "      <td>four</td>\n",
       "      <td>sedan</td>\n",
       "      <td>4wd</td>\n",
       "      <td>front</td>\n",
       "      <td>99.4</td>\n",
       "      <td>...</td>\n",
       "      <td>136</td>\n",
       "      <td>mpfi</td>\n",
       "      <td>3.19</td>\n",
       "      <td>3.4</td>\n",
       "      <td>8.0</td>\n",
       "      <td>115</td>\n",
       "      <td>5500</td>\n",
       "      <td>18</td>\n",
       "      <td>22</td>\n",
       "      <td>17450</td>\n",
       "    </tr>\n",
       "    <tr>\n",
       "      <th>4</th>\n",
       "      <td>2</td>\n",
       "      <td>?</td>\n",
       "      <td>audi</td>\n",
       "      <td>gas</td>\n",
       "      <td>std</td>\n",
       "      <td>two</td>\n",
       "      <td>sedan</td>\n",
       "      <td>fwd</td>\n",
       "      <td>front</td>\n",
       "      <td>99.8</td>\n",
       "      <td>...</td>\n",
       "      <td>136</td>\n",
       "      <td>mpfi</td>\n",
       "      <td>3.19</td>\n",
       "      <td>3.4</td>\n",
       "      <td>8.5</td>\n",
       "      <td>110</td>\n",
       "      <td>5500</td>\n",
       "      <td>19</td>\n",
       "      <td>25</td>\n",
       "      <td>15250</td>\n",
       "    </tr>\n",
       "  </tbody>\n",
       "</table>\n",
       "<p>5 rows × 26 columns</p>\n",
       "</div>"
      ],
      "text/plain": [
       "   symboling normalized-losses         make fuel-type aspiration num-of-doors  \\\n",
       "0          3                 ?  alfa-romero       gas        std          two   \n",
       "1          1                 ?  alfa-romero       gas        std          two   \n",
       "2          2               164         audi       gas        std         four   \n",
       "3          2               164         audi       gas        std         four   \n",
       "4          2                 ?         audi       gas        std          two   \n",
       "\n",
       "    body-style drive-wheels engine-location  wheel-base  ...  engine-size  \\\n",
       "0  convertible          rwd           front        88.6  ...          130   \n",
       "1    hatchback          rwd           front        94.5  ...          152   \n",
       "2        sedan          fwd           front        99.8  ...          109   \n",
       "3        sedan          4wd           front        99.4  ...          136   \n",
       "4        sedan          fwd           front        99.8  ...          136   \n",
       "\n",
       "   fuel-system  bore  stroke compression-ratio horsepower  peak-rpm city-mpg  \\\n",
       "0         mpfi  3.47    2.68               9.0        111      5000       21   \n",
       "1         mpfi  2.68    3.47               9.0        154      5000       19   \n",
       "2         mpfi  3.19     3.4              10.0        102      5500       24   \n",
       "3         mpfi  3.19     3.4               8.0        115      5500       18   \n",
       "4         mpfi  3.19     3.4               8.5        110      5500       19   \n",
       "\n",
       "  highway-mpg  price  \n",
       "0          27  16500  \n",
       "1          26  16500  \n",
       "2          30  13950  \n",
       "3          22  17450  \n",
       "4          25  15250  \n",
       "\n",
       "[5 rows x 26 columns]"
      ]
     },
     "execution_count": 6,
     "metadata": {},
     "output_type": "execute_result"
    }
   ],
   "source": [
    "Data.head()"
   ]
  },
  {
   "cell_type": "code",
   "execution_count": 7,
   "id": "ab5cbdc5",
   "metadata": {},
   "outputs": [],
   "source": [
    "# List of columns to keep\n",
    "\n",
    "selected_columns = ['height', 'width', 'length', 'wheel-base', 'engine-size', 'horsepower', 'peak-rpm', 'city-mpg','curb-weight']\n",
    "\n",
    "#Creating a new data frame with selected columns only\n",
    "\n",
    "df_selected = Data[selected_columns]\n"
   ]
  },
  {
   "cell_type": "code",
   "execution_count": 8,
   "id": "a82774dd",
   "metadata": {},
   "outputs": [
    {
     "data": {
      "text/html": [
       "<div>\n",
       "<style scoped>\n",
       "    .dataframe tbody tr th:only-of-type {\n",
       "        vertical-align: middle;\n",
       "    }\n",
       "\n",
       "    .dataframe tbody tr th {\n",
       "        vertical-align: top;\n",
       "    }\n",
       "\n",
       "    .dataframe thead th {\n",
       "        text-align: right;\n",
       "    }\n",
       "</style>\n",
       "<table border=\"1\" class=\"dataframe\">\n",
       "  <thead>\n",
       "    <tr style=\"text-align: right;\">\n",
       "      <th></th>\n",
       "      <th>height</th>\n",
       "      <th>width</th>\n",
       "      <th>length</th>\n",
       "      <th>wheel-base</th>\n",
       "      <th>engine-size</th>\n",
       "      <th>horsepower</th>\n",
       "      <th>peak-rpm</th>\n",
       "      <th>city-mpg</th>\n",
       "      <th>curb-weight</th>\n",
       "    </tr>\n",
       "  </thead>\n",
       "  <tbody>\n",
       "    <tr>\n",
       "      <th>0</th>\n",
       "      <td>48.8</td>\n",
       "      <td>64.1</td>\n",
       "      <td>168.8</td>\n",
       "      <td>88.6</td>\n",
       "      <td>130</td>\n",
       "      <td>111</td>\n",
       "      <td>5000</td>\n",
       "      <td>21</td>\n",
       "      <td>2548</td>\n",
       "    </tr>\n",
       "    <tr>\n",
       "      <th>1</th>\n",
       "      <td>52.4</td>\n",
       "      <td>65.5</td>\n",
       "      <td>171.2</td>\n",
       "      <td>94.5</td>\n",
       "      <td>152</td>\n",
       "      <td>154</td>\n",
       "      <td>5000</td>\n",
       "      <td>19</td>\n",
       "      <td>2823</td>\n",
       "    </tr>\n",
       "    <tr>\n",
       "      <th>2</th>\n",
       "      <td>54.3</td>\n",
       "      <td>66.2</td>\n",
       "      <td>176.6</td>\n",
       "      <td>99.8</td>\n",
       "      <td>109</td>\n",
       "      <td>102</td>\n",
       "      <td>5500</td>\n",
       "      <td>24</td>\n",
       "      <td>2337</td>\n",
       "    </tr>\n",
       "    <tr>\n",
       "      <th>3</th>\n",
       "      <td>54.3</td>\n",
       "      <td>66.4</td>\n",
       "      <td>176.6</td>\n",
       "      <td>99.4</td>\n",
       "      <td>136</td>\n",
       "      <td>115</td>\n",
       "      <td>5500</td>\n",
       "      <td>18</td>\n",
       "      <td>2824</td>\n",
       "    </tr>\n",
       "    <tr>\n",
       "      <th>4</th>\n",
       "      <td>53.1</td>\n",
       "      <td>66.3</td>\n",
       "      <td>177.3</td>\n",
       "      <td>99.8</td>\n",
       "      <td>136</td>\n",
       "      <td>110</td>\n",
       "      <td>5500</td>\n",
       "      <td>19</td>\n",
       "      <td>2507</td>\n",
       "    </tr>\n",
       "    <tr>\n",
       "      <th>...</th>\n",
       "      <td>...</td>\n",
       "      <td>...</td>\n",
       "      <td>...</td>\n",
       "      <td>...</td>\n",
       "      <td>...</td>\n",
       "      <td>...</td>\n",
       "      <td>...</td>\n",
       "      <td>...</td>\n",
       "      <td>...</td>\n",
       "    </tr>\n",
       "    <tr>\n",
       "      <th>199</th>\n",
       "      <td>55.5</td>\n",
       "      <td>68.9</td>\n",
       "      <td>188.8</td>\n",
       "      <td>109.1</td>\n",
       "      <td>141</td>\n",
       "      <td>114</td>\n",
       "      <td>5400</td>\n",
       "      <td>23</td>\n",
       "      <td>2952</td>\n",
       "    </tr>\n",
       "    <tr>\n",
       "      <th>200</th>\n",
       "      <td>55.5</td>\n",
       "      <td>68.8</td>\n",
       "      <td>188.8</td>\n",
       "      <td>109.1</td>\n",
       "      <td>141</td>\n",
       "      <td>160</td>\n",
       "      <td>5300</td>\n",
       "      <td>19</td>\n",
       "      <td>3049</td>\n",
       "    </tr>\n",
       "    <tr>\n",
       "      <th>201</th>\n",
       "      <td>55.5</td>\n",
       "      <td>68.9</td>\n",
       "      <td>188.8</td>\n",
       "      <td>109.1</td>\n",
       "      <td>173</td>\n",
       "      <td>134</td>\n",
       "      <td>5500</td>\n",
       "      <td>18</td>\n",
       "      <td>3012</td>\n",
       "    </tr>\n",
       "    <tr>\n",
       "      <th>202</th>\n",
       "      <td>55.5</td>\n",
       "      <td>68.9</td>\n",
       "      <td>188.8</td>\n",
       "      <td>109.1</td>\n",
       "      <td>145</td>\n",
       "      <td>106</td>\n",
       "      <td>4800</td>\n",
       "      <td>26</td>\n",
       "      <td>3217</td>\n",
       "    </tr>\n",
       "    <tr>\n",
       "      <th>203</th>\n",
       "      <td>55.5</td>\n",
       "      <td>68.9</td>\n",
       "      <td>188.8</td>\n",
       "      <td>109.1</td>\n",
       "      <td>141</td>\n",
       "      <td>114</td>\n",
       "      <td>5400</td>\n",
       "      <td>19</td>\n",
       "      <td>3062</td>\n",
       "    </tr>\n",
       "  </tbody>\n",
       "</table>\n",
       "<p>204 rows × 9 columns</p>\n",
       "</div>"
      ],
      "text/plain": [
       "     height  width  length  wheel-base  engine-size horsepower peak-rpm  \\\n",
       "0      48.8   64.1   168.8        88.6          130        111     5000   \n",
       "1      52.4   65.5   171.2        94.5          152        154     5000   \n",
       "2      54.3   66.2   176.6        99.8          109        102     5500   \n",
       "3      54.3   66.4   176.6        99.4          136        115     5500   \n",
       "4      53.1   66.3   177.3        99.8          136        110     5500   \n",
       "..      ...    ...     ...         ...          ...        ...      ...   \n",
       "199    55.5   68.9   188.8       109.1          141        114     5400   \n",
       "200    55.5   68.8   188.8       109.1          141        160     5300   \n",
       "201    55.5   68.9   188.8       109.1          173        134     5500   \n",
       "202    55.5   68.9   188.8       109.1          145        106     4800   \n",
       "203    55.5   68.9   188.8       109.1          141        114     5400   \n",
       "\n",
       "     city-mpg  curb-weight  \n",
       "0          21         2548  \n",
       "1          19         2823  \n",
       "2          24         2337  \n",
       "3          18         2824  \n",
       "4          19         2507  \n",
       "..        ...          ...  \n",
       "199        23         2952  \n",
       "200        19         3049  \n",
       "201        18         3012  \n",
       "202        26         3217  \n",
       "203        19         3062  \n",
       "\n",
       "[204 rows x 9 columns]"
      ]
     },
     "execution_count": 8,
     "metadata": {},
     "output_type": "execute_result"
    }
   ],
   "source": [
    "df_selected"
   ]
  },
  {
   "cell_type": "markdown",
   "id": "0ec2892b",
   "metadata": {},
   "source": [
    "# # Descriptive Statistics\n",
    "Descriptive statistics, including count, mean, standard deviation, and quartiles, were computed to understand the central tendencies and spread of the data."
   ]
  },
  {
   "cell_type": "code",
   "execution_count": 9,
   "id": "1b91c51a",
   "metadata": {},
   "outputs": [
    {
     "data": {
      "text/html": [
       "<div>\n",
       "<style scoped>\n",
       "    .dataframe tbody tr th:only-of-type {\n",
       "        vertical-align: middle;\n",
       "    }\n",
       "\n",
       "    .dataframe tbody tr th {\n",
       "        vertical-align: top;\n",
       "    }\n",
       "\n",
       "    .dataframe thead th {\n",
       "        text-align: right;\n",
       "    }\n",
       "</style>\n",
       "<table border=\"1\" class=\"dataframe\">\n",
       "  <thead>\n",
       "    <tr style=\"text-align: right;\">\n",
       "      <th></th>\n",
       "      <th>height</th>\n",
       "      <th>width</th>\n",
       "      <th>length</th>\n",
       "      <th>wheel-base</th>\n",
       "      <th>engine-size</th>\n",
       "      <th>city-mpg</th>\n",
       "      <th>curb-weight</th>\n",
       "    </tr>\n",
       "  </thead>\n",
       "  <tbody>\n",
       "    <tr>\n",
       "      <th>count</th>\n",
       "      <td>204.000000</td>\n",
       "      <td>204.000000</td>\n",
       "      <td>204.000000</td>\n",
       "      <td>204.000000</td>\n",
       "      <td>204.000000</td>\n",
       "      <td>204.000000</td>\n",
       "      <td>204.000000</td>\n",
       "    </tr>\n",
       "    <tr>\n",
       "      <th>mean</th>\n",
       "      <td>53.749020</td>\n",
       "      <td>65.916667</td>\n",
       "      <td>174.075000</td>\n",
       "      <td>98.806373</td>\n",
       "      <td>126.892157</td>\n",
       "      <td>25.240196</td>\n",
       "      <td>2555.602941</td>\n",
       "    </tr>\n",
       "    <tr>\n",
       "      <th>std</th>\n",
       "      <td>2.424901</td>\n",
       "      <td>2.146716</td>\n",
       "      <td>12.362123</td>\n",
       "      <td>5.994144</td>\n",
       "      <td>41.744569</td>\n",
       "      <td>6.551513</td>\n",
       "      <td>521.960820</td>\n",
       "    </tr>\n",
       "    <tr>\n",
       "      <th>min</th>\n",
       "      <td>47.800000</td>\n",
       "      <td>60.300000</td>\n",
       "      <td>141.100000</td>\n",
       "      <td>86.600000</td>\n",
       "      <td>61.000000</td>\n",
       "      <td>13.000000</td>\n",
       "      <td>1488.000000</td>\n",
       "    </tr>\n",
       "    <tr>\n",
       "      <th>25%</th>\n",
       "      <td>52.000000</td>\n",
       "      <td>64.075000</td>\n",
       "      <td>166.300000</td>\n",
       "      <td>94.500000</td>\n",
       "      <td>97.000000</td>\n",
       "      <td>19.000000</td>\n",
       "      <td>2145.000000</td>\n",
       "    </tr>\n",
       "    <tr>\n",
       "      <th>50%</th>\n",
       "      <td>54.100000</td>\n",
       "      <td>65.500000</td>\n",
       "      <td>173.200000</td>\n",
       "      <td>97.000000</td>\n",
       "      <td>119.500000</td>\n",
       "      <td>24.000000</td>\n",
       "      <td>2414.000000</td>\n",
       "    </tr>\n",
       "    <tr>\n",
       "      <th>75%</th>\n",
       "      <td>55.500000</td>\n",
       "      <td>66.900000</td>\n",
       "      <td>183.200000</td>\n",
       "      <td>102.400000</td>\n",
       "      <td>142.000000</td>\n",
       "      <td>30.000000</td>\n",
       "      <td>2939.250000</td>\n",
       "    </tr>\n",
       "    <tr>\n",
       "      <th>max</th>\n",
       "      <td>59.800000</td>\n",
       "      <td>72.300000</td>\n",
       "      <td>208.100000</td>\n",
       "      <td>120.900000</td>\n",
       "      <td>326.000000</td>\n",
       "      <td>49.000000</td>\n",
       "      <td>4066.000000</td>\n",
       "    </tr>\n",
       "  </tbody>\n",
       "</table>\n",
       "</div>"
      ],
      "text/plain": [
       "           height       width      length  wheel-base  engine-size  \\\n",
       "count  204.000000  204.000000  204.000000  204.000000   204.000000   \n",
       "mean    53.749020   65.916667  174.075000   98.806373   126.892157   \n",
       "std      2.424901    2.146716   12.362123    5.994144    41.744569   \n",
       "min     47.800000   60.300000  141.100000   86.600000    61.000000   \n",
       "25%     52.000000   64.075000  166.300000   94.500000    97.000000   \n",
       "50%     54.100000   65.500000  173.200000   97.000000   119.500000   \n",
       "75%     55.500000   66.900000  183.200000  102.400000   142.000000   \n",
       "max     59.800000   72.300000  208.100000  120.900000   326.000000   \n",
       "\n",
       "         city-mpg  curb-weight  \n",
       "count  204.000000   204.000000  \n",
       "mean    25.240196  2555.602941  \n",
       "std      6.551513   521.960820  \n",
       "min     13.000000  1488.000000  \n",
       "25%     19.000000  2145.000000  \n",
       "50%     24.000000  2414.000000  \n",
       "75%     30.000000  2939.250000  \n",
       "max     49.000000  4066.000000  "
      ]
     },
     "execution_count": 9,
     "metadata": {},
     "output_type": "execute_result"
    }
   ],
   "source": [
    "# Descriptive statistics\n",
    "df_selected.describe()"
   ]
  },
  {
   "cell_type": "code",
   "execution_count": 10,
   "id": "f8cd9bcd",
   "metadata": {},
   "outputs": [
    {
     "name": "stdout",
     "output_type": "stream",
     "text": [
      "<class 'pandas.core.frame.DataFrame'>\n",
      "RangeIndex: 204 entries, 0 to 203\n",
      "Data columns (total 9 columns):\n",
      " #   Column       Non-Null Count  Dtype  \n",
      "---  ------       --------------  -----  \n",
      " 0   height       204 non-null    float64\n",
      " 1   width        204 non-null    float64\n",
      " 2   length       204 non-null    float64\n",
      " 3   wheel-base   204 non-null    float64\n",
      " 4   engine-size  204 non-null    int64  \n",
      " 5   horsepower   204 non-null    object \n",
      " 6   peak-rpm     204 non-null    object \n",
      " 7   city-mpg     204 non-null    int64  \n",
      " 8   curb-weight  204 non-null    int64  \n",
      "dtypes: float64(4), int64(3), object(2)\n",
      "memory usage: 14.5+ KB\n"
     ]
    }
   ],
   "source": [
    "df_selected.info()"
   ]
  },
  {
   "cell_type": "markdown",
   "id": "f112e3ba",
   "metadata": {},
   "source": [
    "# Handling missing value"
   ]
  },
  {
   "cell_type": "code",
   "execution_count": 26,
   "id": "56dc7985",
   "metadata": {},
   "outputs": [
    {
     "name": "stdout",
     "output_type": "stream",
     "text": [
      "height         0\n",
      "width          0\n",
      "length         0\n",
      "wheel-base     0\n",
      "engine-size    0\n",
      "horsepower     2\n",
      "peak-rpm       2\n",
      "city-mpg       0\n",
      "curb-weight    0\n",
      "dtype: int64\n"
     ]
    }
   ],
   "source": [
    "print(df_selected.isnull().sum())\n"
   ]
  },
  {
   "cell_type": "code",
   "execution_count": 27,
   "id": "386c9229",
   "metadata": {},
   "outputs": [
    {
     "name": "stderr",
     "output_type": "stream",
     "text": [
      "C:\\Users\\Pratibha\\anaconda3\\lib\\site-packages\\pandas\\util\\_decorators.py:311: SettingWithCopyWarning: \n",
      "A value is trying to be set on a copy of a slice from a DataFrame\n",
      "\n",
      "See the caveats in the documentation: https://pandas.pydata.org/pandas-docs/stable/user_guide/indexing.html#returning-a-view-versus-a-copy\n",
      "  return func(*args, **kwargs)\n"
     ]
    }
   ],
   "source": [
    "df_selected.dropna(subset=['horsepower','peak-rpm'], inplace=True)"
   ]
  },
  {
   "cell_type": "code",
   "execution_count": 28,
   "id": "ffb3b72c",
   "metadata": {},
   "outputs": [
    {
     "name": "stdout",
     "output_type": "stream",
     "text": [
      "height         0\n",
      "width          0\n",
      "length         0\n",
      "wheel-base     0\n",
      "engine-size    0\n",
      "horsepower     0\n",
      "peak-rpm       0\n",
      "city-mpg       0\n",
      "curb-weight    0\n",
      "dtype: int64\n"
     ]
    }
   ],
   "source": [
    "print(df_selected.isnull().sum())\n"
   ]
  },
  {
   "cell_type": "markdown",
   "id": "2e7c5155",
   "metadata": {},
   "source": [
    "Histograms were plotted for selected features to visualize the distribution of data.\n"
   ]
  },
  {
   "cell_type": "code",
   "execution_count": 29,
   "id": "b657f02c",
   "metadata": {},
   "outputs": [
    {
     "data": {
      "image/png": "[encoded data removed]",
      "text/plain": [
       "<Figure size 864x576 with 9 Axes>"
      ]
     },
     "metadata": {
      "needs_background": "light"
     },
     "output_type": "display_data"
    }
   ],
   "source": [
    "#Histograms\n",
    "\n",
    "plt.figure(figsize=(12, 8))\n",
    "for col in ['length', 'width', 'height', 'wheel-base', 'engine-size', 'horsepower', 'peak-rpm', 'city-mpg','curb-weight']:\n",
    "    plt.subplot(3, 3, list(df_selected.columns).index(col) + 1)\n",
    "    \n",
    "    plt.hist(df_selected[col], bins=20, color='skyblue', edgecolor='black')\n",
    "    plt.title(col)\n",
    "plt.tight_layout()\n",
    "plt.show()\n",
    "\n"
   ]
  },
  {
   "cell_type": "code",
   "execution_count": 30,
   "id": "14d23247",
   "metadata": {},
   "outputs": [
    {
     "name": "stderr",
     "output_type": "stream",
     "text": [
      "C:\\Users\\Pratibha\\AppData\\Local\\Temp/ipykernel_12580/507650705.py:3: SettingWithCopyWarning: \n",
      "A value is trying to be set on a copy of a slice from a DataFrame.\n",
      "Try using .loc[row_indexer,col_indexer] = value instead\n",
      "\n",
      "See the caveats in the documentation: https://pandas.pydata.org/pandas-docs/stable/user_guide/indexing.html#returning-a-view-versus-a-copy\n",
      "  df_selected['horsepower'] = pd.to_numeric(df_selected['horsepower'], errors='coerce')\n",
      "C:\\Users\\Pratibha\\AppData\\Local\\Temp/ipykernel_12580/507650705.py:4: SettingWithCopyWarning: \n",
      "A value is trying to be set on a copy of a slice from a DataFrame.\n",
      "Try using .loc[row_indexer,col_indexer] = value instead\n",
      "\n",
      "See the caveats in the documentation: https://pandas.pydata.org/pandas-docs/stable/user_guide/indexing.html#returning-a-view-versus-a-copy\n",
      "  df_selected['peak-rpm'] = pd.to_numeric(df_selected['peak-rpm'],errors='coerce')\n"
     ]
    }
   ],
   "source": [
    "#To create box plot I need to change data types of columns horse power and peak-rpm from object to numeric data type\n",
    "# Convert 'horsepower' and 'peak-rpm' columns to numeric\n",
    "df_selected['horsepower'] = pd.to_numeric(df_selected['horsepower'], errors='coerce')\n",
    "df_selected['peak-rpm'] = pd.to_numeric(df_selected['peak-rpm'],errors='coerce')"
   ]
  },
  {
   "cell_type": "code",
   "execution_count": 31,
   "id": "ff6df11b",
   "metadata": {},
   "outputs": [
    {
     "data": {
      "image/png": "[encoded data removed]",
      "text/plain": [
       "<Figure size 864x576 with 9 Axes>"
      ]
     },
     "metadata": {
      "needs_background": "light"
     },
     "output_type": "display_data"
    }
   ],
   "source": [
    "# Box Plots\n",
    "\n",
    "plt.figure(figsize=(12, 8))\n",
    "for col in ['length', 'width', 'height', 'wheel-base', 'engine-size', 'horsepower', 'peak-rpm', 'city-mpg','curb-weight']:\n",
    "    plt.subplot(3, 3, list(df_selected.columns).index(col) + 1)\n",
    "    sns.boxplot(x=df_selected[col],color = 'lightgreen')\n",
    "    plt.title(col)\n",
    "plt.tight_layout()\n",
    "plt.show()\n",
    "\n"
   ]
  },
  {
   "cell_type": "markdown",
   "id": "c7ec2dc2",
   "metadata": {},
   "source": [
    "# Correlation Analysis: \n"
   ]
  },
  {
   "cell_type": "markdown",
   "id": "86e98baf",
   "metadata": {},
   "source": [
    "A correlation matrix and heatmap were generated to understand the relationships between variables."
   ]
  },
  {
   "cell_type": "code",
   "execution_count": 32,
   "id": "507e75c9",
   "metadata": {},
   "outputs": [
    {
     "data": {
      "image/png": "[encoded data removed]",
      "text/plain": [
       "<Figure size 720x432 with 2 Axes>"
      ]
     },
     "metadata": {
      "needs_background": "light"
     },
     "output_type": "display_data"
    }
   ],
   "source": [
    "# Correlation Analysis\n",
    "corr_matrix = df_selected[['length', 'width', 'height', 'wheel-base', 'engine-size', 'horsepower', 'peak-rpm', 'city-mpg','curb-weight']].corr()\n",
    "plt.figure(figsize=(10, 6))\n",
    "sns.heatmap(corr_matrix, annot=True, cmap='coolwarm', linewidths=0.5)\n",
    "plt.title('Correlation Heatmap')\n",
    "plt.show()"
   ]
  },
  {
   "cell_type": "code",
   "execution_count": 33,
   "id": "45d39d24",
   "metadata": {},
   "outputs": [
    {
     "data": {
      "image/png": "[encoded data removed]",
      "text/plain": [
       "<Figure size 864x576 with 9 Axes>"
      ]
     },
     "metadata": {
      "needs_background": "light"
     },
     "output_type": "display_data"
    }
   ],
   "source": [
    "# Scatter Plots \n",
    "#Scatter Plots (with 'curb-weight' as response variable)\n",
    "plt.figure(figsize=(12, 8))\n",
    "for col in ['length', 'width', 'height', 'wheel-base', 'engine-size', 'horsepower', 'peak-rpm', 'city-mpg','curb-weight']:\n",
    "    plt.subplot(3, 3, list(df_selected.columns).index(col) + 1)\n",
    "    plt.scatter(df_selected[col], df_selected['curb-weight'], alpha=0.5, color='orange')\n",
    "    plt.title(f'{col} vs. Curb Weight')\n",
    "    plt.xlabel(col)\n",
    "    plt.ylabel('Curb Weight')\n",
    "plt.tight_layout()\n",
    "plt.show()"
   ]
  },
  {
   "cell_type": "markdown",
   "id": "a19d0385",
   "metadata": {},
   "source": [
    "# Preliminary Predictive Inferences"
   ]
  },
  {
   "cell_type": "markdown",
   "id": "99a51add",
   "metadata": {},
   "source": [
    "# Preliminary Predictive Inferences\n",
    "Based on the correlation heatmap and scatter plots, we can make some inferences:\n",
    "- 'engine-size' and 'horsepower' have a strong positive correlation with 'curb-weight.'\n",
    "- 'city-mpg' has a strong negative correlation with 'curb-weight.'\n",
    "- These variables may be potential predictors of 'curb-weight.'"
   ]
  },
  {
   "cell_type": "markdown",
   "id": "65ed36af",
   "metadata": {},
   "source": [
    "# Regression Model Construction & Evaluation"
   ]
  },
  {
   "cell_type": "markdown",
   "id": "45618b9d",
   "metadata": {},
   "source": [
    "On the basis of insight gain from EDA, I will use 'engine-size','horsepower' and 'city-mpg'as a predictiors in my linear regression model.I will perform cross-validation byusing scikit learn library"
   ]
  },
  {
   "cell_type": "code",
   "execution_count": 34,
   "id": "e6335482",
   "metadata": {},
   "outputs": [],
   "source": [
    "from sklearn.model_selection import KFold\n",
    "from sklearn.linear_model import LinearRegression\n",
    "from sklearn.metrics import r2_score\n",
    "import numpy as np"
   ]
  },
  {
   "cell_type": "markdown",
   "id": "41473449",
   "metadata": {},
   "source": [
    "# Feature Selection"
   ]
  },
  {
   "cell_type": "markdown",
   "id": "f9c4d764",
   "metadata": {},
   "source": [
    "Three explanatory variables, namely 'engine-size,' 'horsepower,' and 'city-mpg,' were chosen as potential predictors of 'curb-weight' based on EDA findings."
   ]
  },
  {
   "cell_type": "code",
   "execution_count": 35,
   "id": "106052e2",
   "metadata": {},
   "outputs": [],
   "source": [
    "X = df_selected[['engine-size', 'horsepower', 'city-mpg']]\n",
    "y = df_selected['curb-weight']\n",
    "#Number of folds for cross validation\n",
    "K = 5\n",
    "\n",
    "#Initialize array to store R2 score\n",
    "model_1_r2scores = []\n",
    "model_2_r2scores = []\n",
    "\n",
    "#Initialize K-fold cross validation\n",
    "kf = KFold(n_splits=K, shuffle= True ,random_state=42)\n",
    "\n",
    "#Defining my model with different set of explanatory variable\n",
    "\n",
    "model_1 = LinearRegression()\n",
    "model_2 = LinearRegression()\n",
    "\n",
    "# Performing K-fold cross-validation\n",
    "for train_index, test_index in kf.split(X): \n",
    "    X_train, X_test = X.iloc[train_index], X.iloc[test_index]\n",
    "    y_train, y_test = y.iloc[train_index], y.iloc[test_index]\n",
    "    \n",
    "    # Fit and evaluate Model 1\n",
    "    model_1.fit(X_train, y_train)\n",
    "    y_pred1 = model_1.predict(X_test)\n",
    "    r2_1 = r2_score(y_test, y_pred1)\n",
    "    model_1_r2scores.append(r2_1)\n",
    "    \n",
    "    # Fit and evaluate Model 2\n",
    "    model_2.fit(X_train, y_train)\n",
    "    y_pred2 = model_2.predict(X_test)\n",
    "    r2_2 = r2_score(y_test, y_pred2)\n",
    "    model_2_r2scores.append(r2_2)\n",
    "    \n",
    "# Calculating average R² scores for each model\n",
    "avg_r2_model_1 = np.mean(model_1_r2scores)\n",
    "avg_r2_model_2 = np.mean(model_2_r2scores)\n",
    "\n",
    "# Select the preferred model based on average R² scores\n",
    "preferred_model = model_1 if avg_r2_model_1 > avg_r2_model_2 else model_2"
   ]
  },
  {
   "cell_type": "code",
   "execution_count": 36,
   "id": "6f1a0f4b",
   "metadata": {},
   "outputs": [
    {
     "name": "stdout",
     "output_type": "stream",
     "text": [
      "0.7864161393417557\n",
      "0.7864161393417557\n"
     ]
    }
   ],
   "source": [
    "print(avg_r2_model_1)\n",
    "print(avg_r2_model_2)"
   ]
  },
  {
   "cell_type": "markdown",
   "id": "814e7887",
   "metadata": {},
   "source": [
    "# Model Selection"
   ]
  },
  {
   "cell_type": "markdown",
   "id": "7babf2c7",
   "metadata": {},
   "source": [
    "The preferred model was chosen based on the average R² scores of both models. In this case, 'model_1' and 'model_2' had identical average R² scores of approximately 0.7864."
   ]
  },
  {
   "cell_type": "markdown",
   "id": "6f0b3df5",
   "metadata": {},
   "source": [
    "# Conclusions"
   ]
  },
  {
   "cell_type": "markdown",
   "id": "24e9a3cf",
   "metadata": {},
   "source": [
    "In conclusion, the analysis led to the construction of linear regression models for predicting the curb weight of passenger vehicles. The selected models used 'engine-size,' 'horsepower,' and 'city-mpg' as predictors. These models performed similarly well, with an average R² score of approximately 0.7864. Further enhancements to the analysis could include feature engineering, hyperparameter tuning, residual analysis, and test set evaluation to improve model performance and assess generalization capabilities. Deployment of the model for real-world predictions may also be considered."
   ]
  },
  {
   "cell_type": "markdown",
   "id": "288f73cb",
   "metadata": {},
   "source": [
    "# Video Link"
   ]
  },
  {
   "cell_type": "code",
   "execution_count": 1,
   "id": "5018850d",
   "metadata": {},
   "outputs": [
    {
     "ename": "SyntaxError",
     "evalue": "invalid syntax (Temp/ipykernel_19420/2754148434.py, line 1)",
     "output_type": "error",
     "traceback": [
      "\u001b[1;36m  File \u001b[1;32m\"C:\\Users\\Pratibha\\AppData\\Local\\Temp/ipykernel_19420/2754148434.py\"\u001b[1;36m, line \u001b[1;32m1\u001b[0m\n\u001b[1;33m    https://screenpal.com/watch/c0QY24VCJ4V\u001b[0m\n\u001b[1;37m          ^\u001b[0m\n\u001b[1;31mSyntaxError\u001b[0m\u001b[1;31m:\u001b[0m invalid syntax\n"
     ]
    }
   ],
   "source": [
    "https://screenpal.com/watch/c0QY24VCJ4V"
   ]
  },
  {
   "cell_type": "code",
   "execution_count": null,
   "id": "72c87d82",
   "metadata": {},
   "outputs": [],
   "source": []
  }
 ],
 "metadata": {
  "kernelspec": {
   "display_name": "Python 3 (ipykernel)",
   "language": "python",
   "name": "python3"
  },
  "language_info": {
   "codemirror_mode": {
    "name": "ipython",
    "version": 3
   },
   "file_extension": ".py",
   "mimetype": "text/x-python",
   "name": "python",
   "nbconvert_exporter": "python",
   "pygments_lexer": "ipython3",
   "version": "3.9.7"
  }
 },
 "nbformat": 4,
 "nbformat_minor": 5
}
